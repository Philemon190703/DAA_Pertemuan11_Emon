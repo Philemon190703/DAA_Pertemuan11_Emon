{
  "nbformat": 4,
  "nbformat_minor": 0,
  "metadata": {
    "colab": {
      "provenance": []
    },
    "kernelspec": {
      "name": "python3",
      "display_name": "Python 3"
    },
    "language_info": {
      "name": "python"
    }
  },
  "cells": [
    {
      "cell_type": "code",
      "execution_count": 1,
      "metadata": {
        "id": "VQ63nvUp3hc-"
      },
      "outputs": [],
      "source": [
        "# a-----b\n",
        "# /     /\n",
        "# /     /\n",
        "# c-----d-----e"
      ]
    },
    {
      "cell_type": "code",
      "source": [
        "# Create the dictionary with graph elements\n",
        "graph = { \"a\" : [\"b\",\"c\"],\n",
        "          \"b\" : [\"a\", \"d\"],\n",
        "          \"c\" : [\"a\", \"d\"],\n",
        "          \"d\" : [\"e\"],\n",
        "          \"e\" : [\"d\"],\n",
        "         }\n",
        "# Print the graph\n",
        "print(graph)         "
      ],
      "metadata": {
        "colab": {
          "base_uri": "https://localhost:8080/"
        },
        "id": "ypOsSV224fpn",
        "outputId": "c5da249c-28d7-4e81-a0e1-254d44c8e288"
      },
      "execution_count": 2,
      "outputs": [
        {
          "output_type": "stream",
          "name": "stdout",
          "text": [
            "{'a': ['b', 'c'], 'b': ['a', 'd'], 'c': ['a', 'd'], 'd': ['e'], 'e': ['d']}\n"
          ]
        }
      ]
    },
    {
      "cell_type": "code",
      "source": [
        "# Latihan 1\n",
        "# T-----U-----V\n",
        "# |           |\n",
        "# W-----------X\n",
        "# |           |\n",
        "# Z           S"
      ],
      "metadata": {
        "id": "n7sCgZa3AVPD"
      },
      "execution_count": 4,
      "outputs": []
    },
    {
      "cell_type": "code",
      "source": [
        "Lat1 =   {\"T\" : [\"U\",\"W\"],\n",
        "          \"U\" : [\"T\", \"V\"],\n",
        "          \"V\" : [\"U\", \"X\"],\n",
        "          \"W\" : [\"X\", \"Z\"],\n",
        "          \"X\" : [\"W\", \"S\"],\n",
        "          \"Z\" : [\"W\"],\n",
        "          \"S\" : [\"X\"],\n",
        "         }\n",
        "print(Lat1)"
      ],
      "metadata": {
        "colab": {
          "base_uri": "https://localhost:8080/"
        },
        "id": "6iSsAKzwBSTN",
        "outputId": "649c7f19-63fe-4511-e899-6ad996214106"
      },
      "execution_count": 8,
      "outputs": [
        {
          "output_type": "stream",
          "name": "stdout",
          "text": [
            "{'T': ['U', 'W'], 'U': ['T', 'V'], 'V': ['U', 'X'], 'W': ['X', 'Z'], 'X': ['W', 'S'], 'Z': ['W'], 'S': ['X']}\n"
          ]
        }
      ]
    },
    {
      "cell_type": "code",
      "source": [
        "# Lat2 "
      ],
      "metadata": {
        "id": "enxmW6shCbDL"
      },
      "execution_count": null,
      "outputs": []
    },
    {
      "cell_type": "code",
      "source": [
        "lat2 = { \"R\" : [\"O\",\"L\"],\n",
        "         \"O\" : [\"P\",\"R\",\"M\"],\n",
        "         \"M\" : [\"O\",\"N\"],\n",
        "         \"L\" : [\"R\",\"P\"],\n",
        "         \"P\" : [\"O\",\"L\",\"N\"],\n",
        "         \"N\" : [\"P\",\"M\"]\n",
        "         }\n",
        "print (lat2)"
      ],
      "metadata": {
        "id": "VYgkO42CD8BW"
      },
      "execution_count": null,
      "outputs": []
    },
    {
      "cell_type": "code",
      "source": [
        "class graph:\n",
        "    def __init__(self,gdict=None):\n",
        "        if gdict is None:\n",
        "            gdict = {}\n",
        "        self.gdict = gdict\n",
        "\n",
        "    def edges(self):\n",
        "        return self.findedges()\n",
        "\n",
        "# Find the distinct list of edges \n",
        "    def findedges(self):        \n",
        "        edgename = []\n",
        "        for vrtx in self.gdict:\n",
        "            for nxvrtx in self.gdict[vrtx]:\n",
        "                if {nxvrtx, vrtx} not in edgename:\n",
        "                    edgename.append({vrtx, nxvrtx})\n",
        "        return edgename\n",
        "\n",
        "# Create the dictionary  with graph elements\n",
        "graph_elements = { \"a\" : [\"b\",\"c\"],\n",
        "                 \"b\" : [\"a\", \"d\"],\n",
        "                 \"c\" : [\"a\", \"d\"],\n",
        "                 \"d\" : [\"e\"],\n",
        "                 \"e\" : [\"d\"],\n",
        "                 }\n",
        "\n",
        "g = graph(graph_elements)\n",
        "\n",
        "print(g.edges())"
      ],
      "metadata": {
        "colab": {
          "base_uri": "https://localhost:8080/"
        },
        "id": "vDEn366z8Zlg",
        "outputId": "b00bbdeb-f75d-4bae-bcd0-42e561e58628"
      },
      "execution_count": 17,
      "outputs": [
        {
          "output_type": "stream",
          "name": "stdout",
          "text": [
            "[{'a', 'b'}, {'a', 'c'}, {'d', 'b'}, {'d', 'c'}, {'e', 'd'}]\n"
          ]
        }
      ]
    },
    {
      "cell_type": "code",
      "source": [
        "class graph:\n",
        "   \n",
        "   def __init__(self,gdict=None):\n",
        "       if gdict is None:\n",
        "           gdict = {}\n",
        "       self.gdict = gdict\n",
        "   def getVertices(self):\n",
        "       return list(self.gdict.keys())\n",
        "\n",
        "# Create the dictionary with the graph elements  \n",
        "graph_elements = { \"a\" : [\"b\",\"c\"],\n",
        "                   \"b\" : [\"a\",\"d\"],\n",
        "                   \"c\" : [\"a\",\"d\"],\n",
        "                   \"d\" : [\"e\"],\n",
        "                   \"e\" : [\"d\"]\n",
        "                   }\n",
        "g = graph(graph_elements)\n",
        "\n",
        "print(g.getVertices())                "
      ],
      "metadata": {
        "colab": {
          "base_uri": "https://localhost:8080/"
        },
        "id": "66aLo2kbJG16",
        "outputId": "92afce80-460d-42df-94ab-df537b643e4d"
      },
      "execution_count": 24,
      "outputs": [
        {
          "output_type": "stream",
          "name": "stdout",
          "text": [
            "['a', 'b', 'c', 'd', 'e']\n"
          ]
        }
      ]
    },
    {
      "cell_type": "code",
      "source": [
        "class graph:\n",
        "   \n",
        "   def __init__(self,gdict=None):\n",
        "       if gdict is None:\n",
        "           gdict = {}\n",
        "       self.gdict = gdict\n",
        "\n",
        "   def edges(self): \n",
        "       return self.findedges()\n",
        "\n",
        "   def findedges(self):\n",
        "       edgename = []\n",
        "       for vrtx in self.gdict:\n",
        "           for nxtvrtx in self.gdict[vrtx]:\n",
        "               if {nxtvrtx, vrtx} not in edgename:\n",
        "                   edgename.append({vrtx, nxtvrtx})  \n",
        "       return edgename\n",
        "\n",
        "graph_elements = { \"a\" : [\"b\",\"c\"],\n",
        "                   \"b\" : [\"a\",\"d\"],\n",
        "                   \"c\" : [\"a\",\"d\"],\n",
        "                   \"d\" : [\"e\"],\n",
        "                   \"e\" : [\"d\"]\n",
        "                   }\n",
        "g = graph(graph_elements)   \n",
        "\n",
        "print(g.edges())    "
      ],
      "metadata": {
        "colab": {
          "base_uri": "https://localhost:8080/"
        },
        "id": "Njn0Jb_CLL0f",
        "outputId": "a5b273da-509f-466f-8969-ebf87309f6da"
      },
      "execution_count": 34,
      "outputs": [
        {
          "output_type": "stream",
          "name": "stdout",
          "text": [
            "[{'a', 'b'}, {'a', 'c'}, {'d', 'b'}, {'d', 'c'}, {'e', 'd'}]\n"
          ]
        }
      ]
    },
    {
      "cell_type": "code",
      "source": [
        "class graph:\n",
        "\n",
        "  def __init__(self,gdict=None):\n",
        "      if gdict is None:\n",
        "          gdict = {}\n",
        "      self.gdict = gdict\n",
        "\n",
        "  def getVertices(self):\n",
        "    return list(self.gdict.keys())\n",
        "\n",
        "# Add the vertex as a key \n",
        "  def addVertex(self, vrtx):\n",
        "    if vrtx not in self.gdict:\n",
        "          self.gdict[vrtx] = []\n",
        "\n",
        "# Create the dictionary with graph elemens\n",
        "graph_elements = { \"a\" : [\"b\",\"c\"],\n",
        "                \"b\" : [\"a\",\"d\"],\n",
        "                \"c\" : [\"a\",\"d\"],\n",
        "                \"d\" : [\"e\"],\n",
        "                \"e\" : [\"d\"]\n",
        "                }\n",
        "\n",
        "g = graph(graph_elements)\n",
        "\n",
        "g.addVertex(\"f\")\n",
        "\n",
        "print(g.getVertices())"
      ],
      "metadata": {
        "colab": {
          "base_uri": "https://localhost:8080/"
        },
        "id": "pknfeX63LzTF",
        "outputId": "76963467-df72-4a3a-ac08-b15738ec5be8"
      },
      "execution_count": 35,
      "outputs": [
        {
          "output_type": "stream",
          "name": "stdout",
          "text": [
            "['a', 'b', 'c', 'd', 'e', 'f']\n"
          ]
        }
      ]
    },
    {
      "cell_type": "code",
      "source": [
        "class graph:\n",
        "    def __init__(self,gdict=None):\n",
        "        if gdict is None:\n",
        "            gdict = {}\n",
        "        self.gdict = gdict\n",
        "\n",
        "    def edges(self):\n",
        "        return self.findedges()\n",
        "# add the new edge\n",
        "\n",
        "    def AddEdge(self, edge):\n",
        "        edge = set(edge)\n",
        "        (vrtx1, vrtx2) = tuple(edge)\n",
        "        if vrtx1 in self.gdict:\n",
        "            self.gdict[vrtx1].append(vrtx2)\n",
        "        else:\n",
        "            self.gdict[vrtx1] = [vrtx2]\n",
        "\n",
        "# list the edge names\n",
        "    def findedges(self):\n",
        "        edgename = []\n",
        "        for vrtx in self.gdict:\n",
        "            for nxtvrtx in self.gdict[vrtx]:\n",
        "                if {nxtvrtx, vrtx} not in edgename:\n",
        "                    edgename.append({vrtx, nxtvrtx})\n",
        "        return edgename\n",
        "\n",
        "graph_elements = { \"a\" : [\"b\",\"c\"],\n",
        "                \"b\" : [\"a\",\"d\"],\n",
        "                \"c\" : [\"a\",\"d\"],\n",
        "                \"d\" : [\"e\"],\n",
        "                \"e\" : [\"d\"]\n",
        "                }\n",
        "\n",
        "g = graph(graph_elements)\n",
        "g.AddEdge({'a','e'})\n",
        "g.AddEdge({'a','c'})\n",
        "print(g.edges())"
      ],
      "metadata": {
        "colab": {
          "base_uri": "https://localhost:8080/"
        },
        "id": "m-IbtzFiPJfr",
        "outputId": "e102e88c-96ef-43d4-8c70-dcf8fc7a0b7f"
      },
      "execution_count": 48,
      "outputs": [
        {
          "output_type": "stream",
          "name": "stdout",
          "text": [
            "[{'a', 'b'}, {'a', 'c'}, {'a', 'e'}, {'d', 'b'}, {'d', 'c'}, {'e', 'd'}]\n"
          ]
        }
      ]
    }
  ]
}